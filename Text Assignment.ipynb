{
 "cells": [
  {
   "cell_type": "markdown",
   "metadata": {},
   "source": [
    "# Naive Bayes Classifer for Sentiment Analysis of film reviews\n",
    "## written by: Luca Del Basso"
   ]
  },
  {
   "cell_type": "code",
   "execution_count": 2,
   "metadata": {},
   "outputs": [],
   "source": [
    "import pandas as pd\n",
    "import numpy as np\n",
    "import seaborn as sn\n",
    "import re\n",
    "import matplotlib.pyplot as plt\n",
    "import nltk\n",
    "stemmer = nltk.PorterStemmer()\n",
    "from sklearn.feature_extraction.text import CountVectorizer\n",
    "import sklearn.metrics\n",
    "\n"
   ]
  },
  {
   "cell_type": "markdown",
   "metadata": {},
   "source": [
    "## code to implement positive and negative sets of words to use as features\n",
    "\n",
    "To use the positive and negative word text files I must cite the following paper:\n",
    "\n",
    "   Minqing Hu and Bing Liu. \"Mining and Summarizing Customer Reviews.\" \n",
    "       Proceedings of the ACM SIGKDD International Conference on Knowledge \n",
    "       Discovery and Data Mining (KDD-2004), Aug 22-25, 2004, Seattle, \n",
    "       Washington, USA, \n",
    "       \n",
    "I thought using nouns,adjectives,positive and negative words (some combination of the four) as features would imrpove the accuracy score however using all the words as features still seemed to generate the highest accuracy on the development set. After experimenting with a variety of these word sets, using positive and negative words alone yielded the highest results for that particular model.\n",
    "\n"
   ]
  },
  {
   "cell_type": "code",
   "execution_count": 117,
   "metadata": {},
   "outputs": [],
   "source": [
    "#I decided to not use adjectives or nouns after testing and as a result have not included the txt files or code \n",
    "#implementation of them\n",
    "\n",
    "positives = set()\n",
    "with open(\"positive-words.txt\") as pos:\n",
    "    i = 0\n",
    "    for word in pos:\n",
    "        if i >29: #words start at line29  \n",
    "            positives.add(stemmer.stem(word[:-1]))\n",
    "        i += 1\n",
    "        \n",
    "negatives = set()\n",
    "with open(\"negative-words.txt\") as neg:\n",
    "    i = 0\n",
    "    for word in neg:\n",
    "        if i >30:#words start at line30\n",
    "            negatives.add(stemmer.stem(word[:-1]))\n",
    "        i+=1\n",
    "\n"
   ]
  },
  {
   "cell_type": "code",
   "execution_count": 118,
   "metadata": {},
   "outputs": [],
   "source": [
    "pos_negs = positives.union(negatives)"
   ]
  },
  {
   "cell_type": "code",
   "execution_count": 119,
   "metadata": {},
   "outputs": [],
   "source": [
    "def map_sentiment(df):\n",
    "    '''takes a dataframe that includes sentiment scores\n",
    "       returns a dataframe with new sentiment scores'''\n",
    "    df_c = df.copy()\n",
    "    df_c.loc[(df.Sentiment == 1), 'Sentiment'] = 0\n",
    "    df_c.loc[(df.Sentiment == 2), 'Sentiment'] = 1\n",
    "    df_c.loc[(df.Sentiment == 3) | (df.Sentiment == 4) , 'Sentiment'] = 2\n",
    "\n",
    "    return df_c"
   ]
  },
  {
   "cell_type": "code",
   "execution_count": 120,
   "metadata": {},
   "outputs": [],
   "source": [
    "##load raw test,train and development datasets\n",
    "test_df = pd.read_csv(\"test.tsv\", sep='\\t', index_col=0)\n",
    "\n",
    "train_df = pd.read_csv(\"train.tsv\",sep='\\t', index_col=0)\n",
    "\n",
    "dev_df = pd.read_csv(\"dev.tsv\",sep='\\t',index_col=0)\n",
    "\n",
    "sent_reduct_train_df = map_sentiment(train_df)\n",
    "sent_reduct_dev_df = map_sentiment(dev_df)"
   ]
  },
  {
   "cell_type": "code",
   "execution_count": 121,
   "metadata": {},
   "outputs": [],
   "source": [
    "\n",
    "def stem(phrase):\n",
    "    '''stems each word in a sentence seen in a dataframe'''\n",
    "    phrase=phrase.split()\n",
    "    stemmed = [stemmer.stem(word) for word in phrase]\n",
    "    return ' '.join(stemmed)\n",
    "\n",
    "\n",
    "def pre_process(dataframe,lowercasing = False,noise_reduction=False, stemm=False):\n",
    "    '''applies given pre_processing steps to the dataframe before feature extraction'''\n",
    "    \n",
    "    df_c = dataframe.copy()\n",
    "    \n",
    "    if lowercasing:\n",
    "        df_c['Phrase'] = df_c['Phrase'].str.lower()       \n",
    "    if noise_reduction:\n",
    "        df_c['Phrase'] = df_c['Phrase'].str.replace('[^\\w\\s]','')  \n",
    "    if stemm:\n",
    "        df_c['Phrase'] = df_c['Phrase'].apply(stem)\n",
    "        \n",
    "    return df_c"
   ]
  },
  {
   "cell_type": "code",
   "execution_count": 122,
   "metadata": {},
   "outputs": [],
   "source": [
    "##adjectives only\n",
    "def feature_extraction(phrase):\n",
    "    '''extracts certain words as features if they are considered to be\n",
    "       important words as defined by the word group sets'''\n",
    "    phrase = phrase.split()\n",
    "    adjs = [word for word in phrase if  word in pos_negs]#neg_pos_adj_nouns]\n",
    "    ##in the case that no words are returned, the whole phrase is used\n",
    "    if len(adjs)==0:\n",
    "        return \" \".join(phrase)\n",
    "    else:\n",
    "        return \" \".join(adjs)\n",
    "\n"
   ]
  },
  {
   "cell_type": "code",
   "execution_count": 124,
   "metadata": {},
   "outputs": [
    {
     "name": "stderr",
     "output_type": "stream",
     "text": [
      "<ipython-input-121-0388d496ddcd>:16: FutureWarning: The default value of regex will change from True to False in a future version.\n",
      "  df_c['Phrase'] = df_c['Phrase'].str.replace('[^\\w\\s]','')\n"
     ]
    }
   ],
   "source": [
    "#noise reduction AND lowercasing for 3 scale\n",
    "\n",
    "nrlc_3train = pre_process(sent_reduct_train_df,lowercasing=True,noise_reduction=True)\n",
    "nrlc_3dev = pre_process(sent_reduct_dev_df,lowercasing=True,noise_reduction=True)\n",
    "\n",
    "#noise reduction AND lowercasing for 5 scale\n",
    "nrlc_5train = pre_process(train_df,lowercasing=True,noise_reduction=True)\n",
    "nrlc_5dev = pre_process(dev_df,lowercasing=True,noise_reduction=True)\n"
   ]
  },
  {
   "cell_type": "code",
   "execution_count": 125,
   "metadata": {},
   "outputs": [
    {
     "name": "stderr",
     "output_type": "stream",
     "text": [
      "<ipython-input-121-0388d496ddcd>:16: FutureWarning: The default value of regex will change from True to False in a future version.\n",
      "  df_c['Phrase'] = df_c['Phrase'].str.replace('[^\\w\\s]','')\n"
     ]
    }
   ],
   "source": [
    "stem_train_df = pre_process(sent_reduct_train_df,lowercasing=True,noise_reduction=True,stemm=True)\n",
    "stem_dev_df = pre_process(sent_reduct_dev_df,lowercasing=True,noise_reduction=True,stemm=True)\n",
    "\n",
    "nrlcs_5train = pre_process(train_df,lowercasing=True,noise_reduction=True,stemm=True)\n",
    "nrlcs_5dev = pre_process(dev_df,lowercasing=True,noise_reduction=True,stemm=True)"
   ]
  },
  {
   "cell_type": "markdown",
   "metadata": {},
   "source": [
    "## Training and Classification functions"
   ]
  },
  {
   "cell_type": "code",
   "execution_count": 129,
   "metadata": {},
   "outputs": [],
   "source": [
    "def training(train):\n",
    "    '''takes a training set and determines the vocabulary set, a feature vector of feature frequencies,\n",
    "       the prior probabilities for each class and the likelihoods of all features appearing in the training data'''\n",
    "\n",
    "    #gather vocabulary set of training data, turn into a list so it has a fixed ordering for vectorization\n",
    "    vocab = set()\n",
    "    for phrase in train['Phrase'].values:\n",
    "        if phrase != None:\n",
    "            vocab.update(phrase.split())\n",
    "    vocab = list(vocab)\n",
    "    \n",
    "    \n",
    "    #using the vocabulary of unique features, determine the counts of each feature across every sentence \n",
    "    vectorizer = CountVectorizer(vocabulary=vocab)\n",
    "    word_counts = vectorizer.fit_transform(train['Phrase']).toarray()\n",
    "    feature_freqs = np.insert(word_counts,0,train['Sentiment'].to_numpy(),axis=1)\n",
    "\n",
    "    \n",
    "    #calculate the prior probabilities\n",
    "    classes = np.unique(feature_freqs[:,0])\n",
    "    num_classes = len(classes)\n",
    "    priors = [len(np.where(feature_freqs[:,0]==c)[0])/len(feature_freqs) for c in classes ]\n",
    "    \n",
    "    likelihoods = np.zeros((num_classes,len(vocab)))\n",
    "    ##determine the likelihoods for every feature across every class\n",
    "    for f in range(len(vocab)):\n",
    "        col = np.zeros(num_classes)\n",
    "\n",
    "        col=np.array([\n",
    "                (np.sum(feature_freqs[:,f+1][feature_freqs[:,0]==c])+1)/((len(np.where(feature_freqs[:,0]==c)[0]) + len(vocab)))\n",
    "                for c in classes])\n",
    "\n",
    "        likelihoods[:,f] = col\n",
    "\n",
    "    return priors,feature_freqs, vocab,likelihoods"
   ]
  },
  {
   "cell_type": "code",
   "execution_count": 130,
   "metadata": {},
   "outputs": [],
   "source": [
    "def classify(dataframe,priors,vocab,likelihoods,feature_freqs,dev=True):\n",
    "    '''takes a dataframe and a boolean to determine whether it is againts a development or test set\n",
    "       returns:\n",
    "           the probabilites for each class in an array called out\n",
    "           an array of Ids to use in the tsv write'''\n",
    "    i = 0\n",
    "    out = np.zeros((len(priors)+1,len(dataframe)))\n",
    "    if dev:\n",
    "        out[-1] = dataframe['Sentiment']\n",
    "    inds = dataframe.index.tolist()\n",
    "    maxs = np.zeros(len(dataframe))\n",
    "\n",
    "    ##return the indexs of the features in the training dataframe, if they exist\n",
    "    for phr in dataframe['Phrase']:\n",
    "        phrase = phr.split()\n",
    "        feature_indexs=np.array([vocab.index(feature) for feature in phrase\n",
    "                                 if feature in vocab])\n",
    "        not_in = len(phrase)-len(feature_indexs)\n",
    "        \n",
    "        ##if some features dont exist, apply smoothing for their probabilites\n",
    "        for c in range(len(priors)):\n",
    "            smoothed = np.array([1/(len(np.where(feature_freqs[:,0]==c)[0]) + len(vocab))]) **not_in\n",
    "            if feature_indexs.size != 0:\n",
    "                out[c,i] = priors[c] *np.prod(likelihoods[c,feature_indexs]) *smoothed\n",
    "            else:\n",
    "                out[c,i] = priors[c] * smoothed\n",
    "\n",
    "        i+=1\n",
    "    return out,inds\n",
    "\n"
   ]
  },
  {
   "cell_type": "markdown",
   "metadata": {},
   "source": [
    "## Noise Reduction, lowercasing, all words as features, 3 classes\n",
    "    -This is one of the models discussed in my report"
   ]
  },
  {
   "cell_type": "code",
   "execution_count": 131,
   "metadata": {},
   "outputs": [
    {
     "name": "stdout",
     "output_type": "stream",
     "text": [
      "vocab size:  15297\n"
     ]
    },
    {
     "data": {
      "image/png": "[encoded data removed]",
      "text/plain": [
       "<Figure size 432x288 with 2 Axes>"
      ]
     },
     "metadata": {
      "needs_background": "light"
     },
     "output_type": "display_data"
    }
   ],
   "source": [
    "train,dev = nrlc_3train,nrlc_3dev\n",
    "#test = pre_process(test_df,lowercasing=True,noise_reduction=True)\n",
    "\n",
    "priors, feature_freqs,vocab,likelihoods = training(train)\n",
    "out,inds = classify(dev,priors,vocab,likelihoods,feature_freqs,dev=True)\n",
    "num_classes=len(priors)\n",
    "predicted = np.argmax(out[0:num_classes],axis=0)\n",
    "print(\"vocab size: \",len(vocab))\n",
    "actual = out[-1]\n",
    "data = {'actual':actual.astype(int),\n",
    "        'predicted': predicted}\n",
    "\n",
    "output = pd.DataFrame(data, columns=['actual','predicted'])\n",
    "confusion_matrix = pd.crosstab(output['actual'],output['predicted'],rownames=[\"Actual\"],colnames=['Predicted'])\n",
    "sn.heatmap(confusion_matrix,annot=True,fmt='g')\n",
    "plt.show()"
   ]
  },
  {
   "cell_type": "code",
   "execution_count": 132,
   "metadata": {},
   "outputs": [
    {
     "name": "stdout",
     "output_type": "stream",
     "text": [
      "accuracy:  0.65\n"
     ]
    }
   ],
   "source": [
    "print(\"accuracy: \", sklearn.metrics.accuracy_score(actual,predicted))"
   ]
  },
  {
   "cell_type": "markdown",
   "metadata": {},
   "source": [
    "## Noise Reduction, lowercasing, all words as features, 5 classes\n",
    "    "
   ]
  },
  {
   "cell_type": "code",
   "execution_count": 133,
   "metadata": {},
   "outputs": [
    {
     "name": "stdout",
     "output_type": "stream",
     "text": [
      "size of vocab: 15297\n"
     ]
    },
    {
     "data": {
      "image/png": "[encoded data removed]",
      "text/plain": [
       "<Figure size 432x288 with 2 Axes>"
      ]
     },
     "metadata": {
      "needs_background": "light"
     },
     "output_type": "display_data"
    }
   ],
   "source": [
    "train,dev =nrlc_5train, nrlc_5dev\n",
    "#test = pre_process(test_df,lowercasing=True,noise_reduction=True)\n",
    "\n",
    "priors, feature_freqs,vocab,likelihoods = training(train)\n",
    "num_classes=len(priors)\n",
    "out,inds = classify(dev,priors,vocab,likelihoods,feature_freqs,dev=True)\n",
    "print(\"size of vocab:\", len(vocab))\n",
    "\n",
    "predicted = np.argmax(out[0:num_classes],axis=0)\n",
    "\n",
    "actual = out[-1]\n",
    "data = {'actual':actual.astype(int),\n",
    "        'predicted': predicted}\n",
    "\n",
    "output = pd.DataFrame(data, columns=['actual','predicted'])\n",
    "confusion_matrix = pd.crosstab(output['actual'],output['predicted'],rownames=[\"Actual\"],colnames=['Predicted'])\n",
    "sn.heatmap(confusion_matrix,annot=True,fmt='g')\n",
    "plt.show()"
   ]
  },
  {
   "cell_type": "code",
   "execution_count": 134,
   "metadata": {},
   "outputs": [
    {
     "name": "stdout",
     "output_type": "stream",
     "text": [
      "accuracy:  0.397\n"
     ]
    }
   ],
   "source": [
    "print(\"accuracy: \", sklearn.metrics.accuracy_score(actual,predicted))"
   ]
  },
  {
   "cell_type": "markdown",
   "metadata": {},
   "source": [
    "## Noise Reduction, lowercasing,stemming, positive and negative words as features, 3 classes\n",
    "    - This is one of the models discussed in my report"
   ]
  },
  {
   "cell_type": "code",
   "execution_count": 136,
   "metadata": {},
   "outputs": [
    {
     "name": "stdout",
     "output_type": "stream",
     "text": [
      "4317\n"
     ]
    },
    {
     "data": {
      "image/png": "[encoded data removed]",
      "text/plain": [
       "<Figure size 432x288 with 2 Axes>"
      ]
     },
     "metadata": {
      "needs_background": "light"
     },
     "output_type": "display_data"
    }
   ],
   "source": [
    "train,dev =stem_train_df, stem_dev_df#nrlc_3train,nrlc_3dev\n",
    "#test = pre_process(test_df,lowercasing=True,noise_reduction=True)\n",
    "\n",
    "#feature extraction\n",
    "dev['Phrase'] = dev['Phrase'].apply(feature_extraction)\n",
    "train['Phrase'] = train['Phrase'].apply(feature_extraction)\n",
    "\n",
    "priors, feature_freqs,vocab,likelihoods = training(train)\n",
    "num_classes=len(priors)\n",
    "out,inds = classify(dev,priors,vocab,likelihoods,feature_freqs,dev=True)\n",
    "print(len(vocab))\n",
    "predicted = np.argmax(out[0:num_classes],axis=0)\n",
    "\n",
    "actual = out[-1]\n",
    "data = {'actual':actual.astype(int),\n",
    "        'predicted': predicted}\n",
    "\n",
    "output = pd.DataFrame(data, columns=['actual','predicted'])\n",
    "confusion_matrix = pd.crosstab(output['actual'],output['predicted'],rownames=[\"Actual\"],colnames=['Predicted'])\n",
    "sn.heatmap(confusion_matrix,annot=True,fmt='g')\n",
    "plt.show()"
   ]
  },
  {
   "cell_type": "code",
   "execution_count": 137,
   "metadata": {},
   "outputs": [
    {
     "name": "stdout",
     "output_type": "stream",
     "text": [
      "accuracy:  0.613\n"
     ]
    }
   ],
   "source": [
    "print(\"accuracy: \", sklearn.metrics.accuracy_score(actual,predicted))"
   ]
  },
  {
   "cell_type": "markdown",
   "metadata": {},
   "source": [
    "## Noise Reduction, lowercasing,positive and negative words as features, 5 classes"
   ]
  },
  {
   "cell_type": "code",
   "execution_count": 138,
   "metadata": {},
   "outputs": [
    {
     "name": "stdout",
     "output_type": "stream",
     "text": [
      "size of vocab 4317\n"
     ]
    },
    {
     "data": {
      "image/png": "[encoded data removed]",
      "text/plain": [
       "<Figure size 432x288 with 2 Axes>"
      ]
     },
     "metadata": {
      "needs_background": "light"
     },
     "output_type": "display_data"
    }
   ],
   "source": [
    "train,dev =nrlcs_5train,nrlcs_5dev\n",
    "#test = pre_process(test_df,lowercasing=True,noise_reduction=True)\n",
    "dev['Phrase'] = dev['Phrase'].apply(feature_extraction)\n",
    "train['Phrase'] = train['Phrase'].apply(feature_extraction)\n",
    "priors, feature_freqs,vocab,likelihoods = training(train)\n",
    "print(\"size of vocab\", len(vocab))\n",
    "num_classes=len(priors)\n",
    "out,inds = classify(dev,priors,vocab,likelihoods,feature_freqs,dev=True)\n",
    "\n",
    "predicted = np.argmax(out[0:num_classes],axis=0)\n",
    "\n",
    "actual = out[-1]\n",
    "data = {'actual':actual.astype(int),\n",
    "        'predicted': predicted}\n",
    "\n",
    "output = pd.DataFrame(data, columns=['actual','predicted'])\n",
    "confusion_matrix = pd.crosstab(output['actual'],output['predicted'],rownames=[\"Actual\"],colnames=['Predicted'])\n",
    "sn.heatmap(confusion_matrix,annot=True,fmt='g')\n",
    "plt.show()"
   ]
  },
  {
   "cell_type": "code",
   "execution_count": 139,
   "metadata": {},
   "outputs": [
    {
     "name": "stdout",
     "output_type": "stream",
     "text": [
      "accuracy:  0.389\n"
     ]
    }
   ],
   "source": [
    "print(\"accuracy: \", sklearn.metrics.accuracy_score(actual,predicted))"
   ]
  },
  {
   "cell_type": "markdown",
   "metadata": {},
   "source": [
    "## example of writing to tsv"
   ]
  },
  {
   "cell_type": "code",
   "execution_count": 140,
   "metadata": {},
   "outputs": [
    {
     "name": "stderr",
     "output_type": "stream",
     "text": [
      "<ipython-input-121-0388d496ddcd>:16: FutureWarning: The default value of regex will change from True to False in a future version.\n",
      "  df_c['Phrase'] = df_c['Phrase'].str.replace('[^\\w\\s]','')\n"
     ]
    }
   ],
   "source": [
    "# train =nrlc_3train\n",
    "# test = pre_process(test_df,lowercasing=True,noise_reduction=True)\n",
    "# # train['Phrase'] = train['Phrase'].apply(feature_extraction)\n",
    "# # test['Phrase'] = test['Phrase'].apply(feature_extraction)\n",
    "\n",
    "# priors, feature_freqs,vocab,likelihoods = training(train)\n",
    "# num_classes=len(priors)\n",
    "# out,inds = classify(test,priors,vocab,likelihoods,feature_freqs,dev=False)\n",
    "# predicted = np.argmax(out[0:num_classes],axis=0)\n",
    "\n",
    "# f = open(\"test_predictions_3classes_Luca_DELBASSO.tsv\",\"w\")\n",
    "# for i in range(len(inds)):\n",
    "#     string = str(inds[i]) + \"\\t\" + str(predicted[i])+\"\\n\"\n",
    "#     f.write(string)\n",
    "# f.close()"
   ]
  }
 ],
 "metadata": {
  "kernelspec": {
   "display_name": "Python 3",
   "language": "python",
   "name": "python3"
  },
  "language_info": {
   "codemirror_mode": {
    "name": "ipython",
    "version": 3
   },
   "file_extension": ".py",
   "mimetype": "text/x-python",
   "name": "python",
   "nbconvert_exporter": "python",
   "pygments_lexer": "ipython3",
   "version": "3.8.3"
  }
 },
 "nbformat": 4,
 "nbformat_minor": 4
}
